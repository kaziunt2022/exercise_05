{
  "nbformat": 4,
  "nbformat_minor": 0,
  "metadata": {
    "kernelspec": {
      "display_name": "Python 3",
      "language": "python",
      "name": "python3"
    },
    "language_info": {
      "codemirror_mode": {
        "name": "ipython",
        "version": 3
      },
      "file_extension": ".py",
      "mimetype": "text/x-python",
      "name": "python",
      "nbconvert_exporter": "python",
      "pygments_lexer": "ipython3",
      "version": "3.9.6"
    },
    "colab": {
      "name": "In_class_exercise_05-1.ipynb",
      "provenance": [],
      "include_colab_link": true
    }
  },
  "cells": [
    {
      "cell_type": "markdown",
      "metadata": {
        "id": "view-in-github",
        "colab_type": "text"
      },
      "source": [
        "<a href=\"https://colab.research.google.com/github/kaziunt2022/exercise_05/blob/main/In_class_exercise_05.ipynb\" target=\"_parent\"><img src=\"https://colab.research.google.com/assets/colab-badge.svg\" alt=\"Open In Colab\"/></a>"
      ]
    },
    {
      "cell_type": "markdown",
      "metadata": {
        "id": "57-pDesrARXq"
      },
      "source": [
        "# **The fifth in-class-exercise (40 points in total, 11/11/2021)**"
      ]
    },
    {
      "cell_type": "markdown",
      "metadata": {
        "id": "tlRIgmvPARXy"
      },
      "source": [
        "(20 points) The purpose of the question is to practice different machine learning algorithms for text classification as well as the performance evaluation. In addition, you are requried to conduct *10 fold cross validation (https://scikit-learn.org/stable/modules/cross_validation.html)* in the training. \n",
        "\n",
        "The dataset can be download from here: https://github.com/unt-iialab/info5731_spring2021/blob/main/class_exercises/exercise09_datacollection.zip. The dataset contains two files train data and test data for sentiment analysis in IMDB review, it has two categories: 1 represents positive and 0 represents negative. You need to split the training data into training and validate data (80% for training and 20% for validation, https://towardsdatascience.com/train-test-split-and-cross-validation-in-python-80b61beca4b6) and perform 10 fold cross validation while training the classifier. The final trained model was final evaluated on the test data. \n",
        "\n",
        "Algorithms:\n",
        "\n",
        "(1) MultinominalNB\n",
        "\n",
        "(2) SVM \n",
        "\n",
        "(3) KNN \n",
        "\n",
        "(4) Decision tree\n",
        "\n",
        "(5) Random Forest\n",
        "\n",
        "(6) XGBoost\n",
        "\n",
        "Evaluation measurement:\n",
        "\n",
        "(1) Accuracy\n",
        "\n",
        "(2) Recall\n",
        "\n",
        "(3) Precison \n",
        "\n",
        "(4) F-1 score"
      ]
    },
    {
      "cell_type": "code",
      "metadata": {
        "id": "eResMA-3ARX0",
        "outputId": "89455d56-f6f3-479a-9898-0d2fc240e2c3",
        "colab": {
          "base_uri": "https://localhost:8080/"
        }
      },
      "source": [
        "# Importing required libraries\n",
        "import re, string, nltk\n",
        "import pandas as pd\n",
        "import numpy as np\n",
        "from nltk.corpus import stopwords\n",
        "from nltk.stem import WordNetLemmatizer\n",
        "from sklearn.model_selection import train_test_split\n",
        "from sklearn.model_selection import cross_validate\n",
        "from sklearn.feature_extraction.text import CountVectorizer\n",
        "from sklearn.naive_bayes import MultinomialNB\n",
        "from sklearn.svm import LinearSVC\n",
        "from sklearn.neighbors import KNeighborsClassifier\n",
        "from sklearn.tree import DecisionTreeClassifier\n",
        "from sklearn.ensemble import RandomForestClassifier, GradientBoostingClassifier\n",
        "from sklearn.metrics import silhouette_score\n",
        "from sklearn.cluster import KMeans, DBSCAN, AgglomerativeClustering\n",
        "import gensim\n",
        "from scipy.cluster import hierarchy\n",
        "nltk.download(\"stopwords\")\n",
        "nltk.download('punkt')\n",
        "nltk.download('wordnet')"
      ],
      "execution_count": 1,
      "outputs": [
        {
          "output_type": "stream",
          "name": "stdout",
          "text": [
            "[nltk_data] Downloading package stopwords to /root/nltk_data...\n",
            "[nltk_data]   Unzipping corpora/stopwords.zip.\n",
            "[nltk_data] Downloading package punkt to /root/nltk_data...\n",
            "[nltk_data]   Unzipping tokenizers/punkt.zip.\n",
            "[nltk_data] Downloading package wordnet to /root/nltk_data...\n",
            "[nltk_data]   Unzipping corpora/wordnet.zip.\n"
          ]
        },
        {
          "output_type": "execute_result",
          "data": {
            "text/plain": [
              "True"
            ]
          },
          "metadata": {},
          "execution_count": 1
        }
      ]
    },
    {
      "cell_type": "code",
      "metadata": {
        "id": "icSdNB4UARX2"
      },
      "source": [
        "# Write your code here\n",
        "text = requests.get(\"https://raw.githubusercontent.com/kaziunt2022/exercise_05/main/stsa-train.txt\").text\n",
        "data = text.split('\\n')\n",
        "sentiments = []\n",
        "reviews = []\n",
        "#sentiments= [int(review[0]) for review in data] # extract sentiments from txt file\n",
        "#reviews = [review[2:] for review in data] # extract reviews from the txt file\n",
        "for review in data:\n",
        "  try:\n",
        "    sentiments.append(int(review[0]))\n",
        "    reviews.append(review[2:])\n",
        "  except:pass"
      ],
      "execution_count": 27,
      "outputs": []
    },
    {
      "cell_type": "code",
      "metadata": {
        "id": "3ub0_2CpARX3"
      },
      "source": [
        "stopwords_list = stopwords.words('english') # importing stopwords\n",
        "punctuations_list = string.punctuation # get punctuations\n",
        "tokenizer = nltk.tokenize.TweetTokenizer() # initiliza tokenizer\n",
        "lemmatizer = WordNetLemmatizer() # initialize word lemmatizer\n",
        "def preprocessing(text):\n",
        "    \"\"\"\n",
        "    This function will clean the givern text\n",
        "    \"\"\"\n",
        "    text = re.sub('<[^>]*>', '', text)\n",
        "    emoticons = re.findall('(?::|;|=)(?:-)?(?:\\)|\\(|D|P)', text)\n",
        "    text = re.sub('[\\W]+', ' ', text.lower())\n",
        "    text = text + \" \".join(emoticons).replace('-', '')\n",
        "    tokenize_text = [lemmatizer.lemmatize(word.lower()) for word in nltk.tokenize.word_tokenize(text) if (word not in stopwords_list) and (word not in punctuations_list) and (len(word)>=2) and (word.isalnum())]\n",
        "    return \" \".join(tokenize_text)\n",
        "reviews = list(map(preprocessing, reviews)) # Clean all the reviews got from txt file"
      ],
      "execution_count": 28,
      "outputs": []
    },
    {
      "cell_type": "code",
      "metadata": {
        "id": "WOJF9rTYARX6"
      },
      "source": [
        "X_train, X_test, y_train, y_test = train_test_split(reviews, sentiments, test_size=0.2) # split the data as 80% train, 20% validation\n",
        "c_vectorize=CountVectorizer()\n",
        "X_train_reviews = c_vectorize.fit_transform(X_train) # transform the data in vector formate\n",
        "X_test_reviews = c_vectorize.transform(X_test) # transform the data in vector formate\n"
      ],
      "execution_count": 29,
      "outputs": []
    },
    {
      "cell_type": "code",
      "metadata": {
        "id": "3J7YtILuARX9",
        "outputId": "cc8bb7e4-069e-4377-f2a1-49cef4245e9d",
        "colab": {
          "base_uri": "https://localhost:8080/"
        }
      },
      "source": [
        "# Validation \n",
        "\"\"\"\n",
        "Algorithms:\n",
        "\n",
        "(1) MultinominalNB\n",
        "\n",
        "(2) SVM \n",
        "\n",
        "(3) KNN \n",
        "\n",
        "(4) Decision tree\n",
        "\n",
        "(5) Random Forest\n",
        "\n",
        "(6) XGBoost\n",
        "\"\"\"\n",
        "# make models of upper given algorithms with train data (respectively)\n",
        "multinomial_model = MultinomialNB().fit(X_train_reviews, y_train)  #(1)\n",
        "svm_model = LinearSVC().fit(X_train_reviews, y_train)  #(2)\n",
        "knn_model = KNeighborsClassifier().fit(X_train_reviews, y_train)  #(3)\n",
        "d_tree_model = DecisionTreeClassifier().fit(X_train_reviews, y_train)  #(4)\n",
        "r_forest_model = RandomForestClassifier().fit(X_train_reviews, y_train)  #(5)\n",
        "x_g_boost_model = GradientBoostingClassifier().fit(X_train_reviews, y_train)  #(6)\n",
        "# print out score of model withrespect to validation data (respectively)\n",
        "print(\"Score of 'MultinominalNB' for training and validationg data: \", multinomial_model.score(X_test_reviews, y_test))\n",
        "print(\"Score of 'SVM' for training and validationg data: \", svm_model.score(X_test_reviews, y_test))\n",
        "print(\"Score of 'KNN' for training and validationg data: \", knn_model.score(X_test_reviews, y_test))\n",
        "print(\"Score of 'Decision tree' for training and validationg data: \", d_tree_model.score(X_test_reviews, y_test))\n",
        "print(\"Score of 'Random Forest' for training and validationg data: \", r_forest_model.score(X_test_reviews, y_test))\n",
        "print(\"Score of 'XGBoost' for training and validationg data: \", x_g_boost_model.score(X_test_reviews, y_test))"
      ],
      "execution_count": 30,
      "outputs": [
        {
          "output_type": "stream",
          "name": "stdout",
          "text": [
            "Score of 'MultinominalNB' for training and validationg data:  0.7774566473988439\n",
            "Score of 'SVM' for training and validationg data:  0.7673410404624278\n",
            "Score of 'KNN' for training and validationg data:  0.5541907514450867\n",
            "Score of 'Decision tree' for training and validationg data:  0.666907514450867\n",
            "Score of 'Random Forest' for training and validationg data:  0.7261560693641619\n",
            "Score of 'XGBoost' for training and validationg data:  0.6524566473988439\n"
          ]
        }
      ]
    },
    {
      "cell_type": "code",
      "metadata": {
        "id": "tcDdMFTrARX_"
      },
      "source": [
        "scoring = [\"accuracy\", 'recall', 'precision', 'f1'] # parameters of evaluations\n",
        "X = c_vectorize.fit_transform(reviews) # get vectorized form of reviews\n",
        "y = sentiments \n",
        "# Apply cross validationn to each above mentioed algorithms with k-fold=10\n",
        "mulit_nomial_scores = cross_validate(MultinomialNB(), X, y, scoring=scoring, cv=10)\n",
        "svm_score = cross_validate(LinearSVC(), X, y, scoring=scoring, cv=10)\n",
        "knn_score = cross_validate(KNeighborsClassifier(), X, y, scoring=scoring, cv=10)\n",
        "d_tree_score = cross_validate(DecisionTreeClassifier(), X, y, scoring=scoring, cv=10)\n",
        "r_forest_score = cross_validate(RandomForestClassifier(), X, y, scoring=scoring, cv=10)\n",
        "xg_boost_score = cross_validate(GradientBoostingClassifier(), X, y, scoring=scoring, cv=10)"
      ],
      "execution_count": 31,
      "outputs": []
    },
    {
      "cell_type": "code",
      "metadata": {
        "id": "UBE5P4lLARYE",
        "outputId": "dd9ad5c7-ad32-44d0-b576-c19ff1e955bc",
        "colab": {
          "base_uri": "https://localhost:8080/"
        }
      },
      "source": [
        "# Print out the eveluations\n",
        "print(\"-------- MultinominalNB Cross Validation to Validations Set --------\")\n",
        "print(\"Accuracy:\\t\", mulit_nomial_scores[\"test_accuracy\"].mean())\n",
        "print(\"Recall:\\t\", mulit_nomial_scores[\"test_recall\"].mean())\n",
        "print(\"Precesion:\\t\", mulit_nomial_scores[\"test_precision\"].mean())\n",
        "print('F-1:\\t', mulit_nomial_scores[\"test_f1\"].mean())\n",
        "print()\n",
        "print(\"-------- SVM Cross Validation to Validations Set --------\")\n",
        "print(\"Accuracy:\\t\", svm_score[\"test_accuracy\"].mean())\n",
        "print(\"Recall:\\t\", svm_score[\"test_recall\"].mean())\n",
        "print(\"Precesion:\\t\", svm_score[\"test_precision\"].mean())\n",
        "print('F-1:\\t', svm_score[\"test_f1\"].mean())\n",
        "print()\n",
        "print(\"-------- KNN Cross Validation to Validations Set --------\")\n",
        "print(\"Accuracy:\\t\", knn_score[\"test_accuracy\"].mean())\n",
        "print(\"Recall:\\t\", knn_score[\"test_recall\"].mean())\n",
        "print(\"Precesion:\\t\", knn_score[\"test_precision\"].mean())\n",
        "print('F-1:\\t', knn_score[\"test_f1\"].mean())\n",
        "print()\n",
        "print(\"-------- Decision tree Cross Validation to Validations Set --------\")\n",
        "print(\"Accuracy:\\t\", d_tree_score[\"test_accuracy\"].mean())\n",
        "print(\"Recall:\\t\", d_tree_score[\"test_recall\"].mean())\n",
        "print(\"Precesion:\\t\", d_tree_score[\"test_precision\"].mean())\n",
        "print('F-1:\\t', d_tree_score[\"test_f1\"].mean())\n",
        "print()\n",
        "print(\"-------- Random Forest Cross Validation to Validations Set --------\")\n",
        "print(\"Accuracy:\\t\", r_forest_score[\"test_accuracy\"].mean())\n",
        "print(\"Recall:\\t\", r_forest_score[\"test_recall\"].mean())\n",
        "print(\"Precesion:\\t\", r_forest_score[\"test_precision\"].mean())\n",
        "print('F-1:\\t', r_forest_score[\"test_f1\"].mean())\n",
        "print()\n",
        "print(\"-------- XGBoost Cross Validation to Validations Set --------\")\n",
        "print(\"Accuracy:\\t\", xg_boost_score[\"test_accuracy\"].mean())\n",
        "print(\"Recall:\\t\", xg_boost_score[\"test_recall\"].mean())\n",
        "print(\"Precesion:\\t\", xg_boost_score[\"test_precision\"].mean())\n",
        "print('F-1:\\t', xg_boost_score[\"test_f1\"].mean())\n"
      ],
      "execution_count": 32,
      "outputs": [
        {
          "output_type": "stream",
          "name": "stdout",
          "text": [
            "-------- MultinominalNB Cross Validation to Validations Set --------\n",
            "Accuracy:\t 0.7823699421965318\n",
            "Recall:\t 0.8083102493074792\n",
            "Precesion:\t 0.7822365794249799\n",
            "F-1:\t 0.7949480085571904\n",
            "\n",
            "-------- SVM Cross Validation to Validations Set --------\n",
            "Accuracy:\t 0.7592485549132948\n",
            "Recall:\t 0.7695290858725762\n",
            "Precesion:\t 0.7692580430593169\n",
            "F-1:\t 0.7692587818965718\n",
            "\n",
            "-------- KNN Cross Validation to Validations Set --------\n",
            "Accuracy:\t 0.5552023121387284\n",
            "Recall:\t 0.39833795013850415\n",
            "Precesion:\t 0.6138959076697322\n",
            "F-1:\t 0.4781152020676602\n",
            "\n",
            "-------- Decision tree Cross Validation to Validations Set --------\n",
            "Accuracy:\t 0.6777456647398844\n",
            "Recall:\t 0.6673130193905816\n",
            "Precesion:\t 0.7004999240378729\n",
            "F-1:\t 0.6833464150550376\n",
            "\n",
            "-------- Random Forest Cross Validation to Validations Set --------\n",
            "Accuracy:\t 0.7335260115606937\n",
            "Recall:\t 0.7329639889196675\n",
            "Precesion:\t 0.7508292223237328\n",
            "F-1:\t 0.7414473499953559\n",
            "\n",
            "-------- XGBoost Cross Validation to Validations Set --------\n",
            "Accuracy:\t 0.6557803468208092\n",
            "Recall:\t 0.8371191135734073\n",
            "Precesion:\t 0.6278680930732563\n",
            "F-1:\t 0.7173438789410024\n"
          ]
        }
      ]
    },
    {
      "cell_type": "code",
      "metadata": {
        "id": "hD-DtGI1ARYF"
      },
      "source": [
        "# Write your code here\n",
        "text = requests.get(\"https://raw.githubusercontent.com/kaziunt2022/exercise_05/main/stsa-test.txt\").text\n",
        "data = text.split('\\n')\n",
        "test_sentiments = []\n",
        "test_reviews = []\n",
        "#sentiments= [int(review[0]) for review in data] # extract sentiments from txt file\n",
        "#reviews = [review[2:] for review in data] # extract reviews from the txt file\n",
        "for review in data:\n",
        "  try:\n",
        "    test_sentiments.append(int(review[0]))\n",
        "    test_reviews.append(review[2:])\n",
        "  except:pass"
      ],
      "execution_count": 33,
      "outputs": []
    },
    {
      "cell_type": "code",
      "metadata": {
        "id": "k0lVeIvLARYG"
      },
      "source": [
        "test_reviews = list(map(preprocessing, test_reviews)) # clean the reviews"
      ],
      "execution_count": 34,
      "outputs": []
    },
    {
      "cell_type": "code",
      "metadata": {
        "id": "tLNA1IcbARYH"
      },
      "source": [
        "X = c_vectorize.fit_transform(reviews) # make vector of reviews\n",
        "y = sentiments\n",
        "X_test_d = c_vectorize.transform(test_reviews) # make vector of test reviews\n",
        "y_test_d = test_sentiments"
      ],
      "execution_count": 35,
      "outputs": []
    },
    {
      "cell_type": "code",
      "metadata": {
        "id": "17hhAK_6ARYH",
        "outputId": "7ec0ff8f-8f26-41f5-87ec-7be266fa15a2",
        "colab": {
          "base_uri": "https://localhost:8080/"
        }
      },
      "source": [
        "# make models of given algortihms respectively,  with training reviews and sentiments\n",
        "multinomial_model = MultinomialNB().fit(X, y)\n",
        "svm_model = LinearSVC().fit(X, y)\n",
        "knn_model = KNeighborsClassifier().fit(X, y)\n",
        "d_tree_model = DecisionTreeClassifier().fit(X, y)\n",
        "r_forest_model = RandomForestClassifier().fit(X, y)\n",
        "x_g_boost_model = GradientBoostingClassifier().fit(X, y)\n",
        "# print out the score of models with respect to test reviews and sentiments\n",
        "print(\"Score of 'MultinominalNB' for training and test data: \", multinomial_model.score(X_test_d, y_test_d))\n",
        "print(\"Score of 'SVM' for training and test data: \", svm_model.score(X_test_d, y_test_d))\n",
        "print(\"Score of 'KNN' for training and test data: \", knn_model.score(X_test_d, y_test_d))\n",
        "print(\"Score of 'Decision tree' for training and test data: \", d_tree_model.score(X_test_d, y_test_d))\n",
        "print(\"Score of 'Random Forest' for training and test data: \", r_forest_model.score(X_test_d, y_test_d))\n",
        "print(\"Score of 'XGBoost' for training and test data: \", x_g_boost_model.score(X_test_d, y_test_d))"
      ],
      "execution_count": 36,
      "outputs": [
        {
          "output_type": "stream",
          "name": "stdout",
          "text": [
            "Score of 'MultinominalNB' for training and test data:  0.8116419549697969\n",
            "Score of 'SVM' for training and test data:  0.7732015376166941\n",
            "Score of 'KNN' for training and test data:  0.5656232839099395\n",
            "Score of 'Decision tree' for training and test data:  0.6798462383305875\n",
            "Score of 'Random Forest' for training and test data:  0.742998352553542\n",
            "Score of 'XGBoost' for training and test data:  0.6523887973640856\n"
          ]
        }
      ]
    },
    {
      "cell_type": "code",
      "metadata": {
        "id": "OUWyaq3ZARYI"
      },
      "source": [
        "scoring = [\"accuracy\", 'recall', 'precision', 'f1'] # evaluating criteria\n",
        "# Apply cross validationn to each above mentioed algorithms with k-fold=10\n",
        "mulit_nomial_scores = cross_validate(multinomial_model, X_test_d, y_test_d, scoring=scoring, cv=10)\n",
        "svm_score = cross_validate(svm_model, X_test_d, y_test_d, scoring=scoring, cv=10)\n",
        "knn_score = cross_validate(knn_model, X_test_d, y_test_d, scoring=scoring, cv=10)\n",
        "d_tree_score = cross_validate(d_tree_model, X_test_d, y_test_d, scoring=scoring, cv=10)\n",
        "r_forest_score = cross_validate(r_forest_model, X_test_d, y_test_d, scoring=scoring, cv=10)\n",
        "X_test_dg_boost_score = cross_validate(x_g_boost_model, X_test_d, y_test_d, scoring=scoring, cv=10)"
      ],
      "execution_count": 37,
      "outputs": []
    },
    {
      "cell_type": "code",
      "metadata": {
        "id": "LZLQgVoaARYJ",
        "outputId": "9e82ad6f-1cb6-46ce-dd88-3ddc68fe7d01",
        "colab": {
          "base_uri": "https://localhost:8080/"
        }
      },
      "source": [
        "# print out cross validation scores\n",
        "print(\"-------- MultinominalNB Cross Validation to test data --------\")\n",
        "print(\"Accuracy:\\t\", mulit_nomial_scores[\"test_accuracy\"].mean())\n",
        "print(\"Recall:\\t\", mulit_nomial_scores[\"test_recall\"].mean())\n",
        "print(\"Precesion:\\t\", mulit_nomial_scores[\"test_precision\"].mean())\n",
        "print('F-1:\\t', mulit_nomial_scores[\"test_f1\"].mean())\n",
        "print()\n",
        "print(\"-------- SVM Cross Validation to test data --------\")\n",
        "print(\"Accuracy:\\t\", svm_score[\"test_accuracy\"].mean())\n",
        "print(\"Recall:\\t\", svm_score[\"test_recall\"].mean())\n",
        "print(\"Precesion:\\t\", svm_score[\"test_precision\"].mean())\n",
        "print('F-1:\\t', svm_score[\"test_f1\"].mean())\n",
        "print()\n",
        "print(\"-------- KNN Cross Validation to test data --------\")\n",
        "print(\"Accuracy:\\t\", knn_score[\"test_accuracy\"].mean())\n",
        "print(\"Recall:\\t\", knn_score[\"test_recall\"].mean())\n",
        "print(\"Precesion:\\t\", knn_score[\"test_precision\"].mean())\n",
        "print('F-1:\\t', knn_score[\"test_f1\"].mean())\n",
        "print()\n",
        "print(\"-------- Decision tree Cross Validation to test data --------\")\n",
        "print(\"Accuracy:\\t\", d_tree_score[\"test_accuracy\"].mean())\n",
        "print(\"Recall:\\t\", d_tree_score[\"test_recall\"].mean())\n",
        "print(\"Precesion:\\t\", d_tree_score[\"test_precision\"].mean())\n",
        "print('F-1:\\t', d_tree_score[\"test_f1\"].mean())\n",
        "print()\n",
        "print(\"-------- Random Forest Cross Validation to test data --------\")\n",
        "print(\"Accuracy:\\t\", r_forest_score[\"test_accuracy\"].mean())\n",
        "print(\"Recall:\\t\", r_forest_score[\"test_recall\"].mean())\n",
        "print(\"Precesion:\\t\", r_forest_score[\"test_precision\"].mean())\n",
        "print('F-1:\\t', r_forest_score[\"test_f1\"].mean())\n",
        "print()\n",
        "print(\"-------- XGBoost Cross Validation to test data --------\")\n",
        "print(\"Accuracy:\\t\", xg_boost_score[\"test_accuracy\"].mean())\n",
        "print(\"Recall:\\t\", xg_boost_score[\"test_recall\"].mean())\n",
        "print(\"Precesion:\\t\", xg_boost_score[\"test_precision\"].mean())\n",
        "print('F-1:\\t', xg_boost_score[\"test_f1\"].mean())\n"
      ],
      "execution_count": 38,
      "outputs": [
        {
          "output_type": "stream",
          "name": "stdout",
          "text": [
            "-------- MultinominalNB Cross Validation to test data --------\n",
            "Accuracy:\t 0.718278988770792\n",
            "Recall:\t 0.734957264957265\n",
            "Precesion:\t 0.7122616814538411\n",
            "F-1:\t 0.7222593953217628\n",
            "\n",
            "-------- SVM Cross Validation to test data --------\n",
            "Accuracy:\t 0.6858974358974359\n",
            "Recall:\t 0.6732234432234433\n",
            "Precesion:\t 0.6915951561452067\n",
            "F-1:\t 0.6810020678774171\n",
            "\n",
            "-------- KNN Cross Validation to test data --------\n",
            "Accuracy:\t 0.5041313877379452\n",
            "Recall:\t 0.02748473748473749\n",
            "Precesion:\t 0.5708333333333333\n",
            "F-1:\t 0.05195067693517839\n",
            "\n",
            "-------- Decision tree Cross Validation to test data --------\n",
            "Accuracy:\t 0.6403080526031346\n",
            "Recall:\t 0.593980463980464\n",
            "Precesion:\t 0.6533647556196273\n",
            "F-1:\t 0.621796934564922\n",
            "\n",
            "-------- Random Forest Cross Validation to test data --------\n",
            "Accuracy:\t 0.6721551672371345\n",
            "Recall:\t 0.5488644688644689\n",
            "Precesion:\t 0.7253836263269697\n",
            "F-1:\t 0.6224970954308027\n",
            "\n",
            "-------- XGBoost Cross Validation to test data --------\n",
            "Accuracy:\t 0.6557803468208092\n",
            "Recall:\t 0.8371191135734073\n",
            "Precesion:\t 0.6278680930732563\n",
            "F-1:\t 0.7173438789410024\n"
          ]
        }
      ]
    },
    {
      "cell_type": "markdown",
      "metadata": {
        "id": "lacr01jUARYM"
      },
      "source": [
        "(20 points) The purpose of the question is to practice different machine learning algorithms for text clustering\n",
        "Please downlad the dataset by using the following link.  https://www.kaggle.com/PromptCloudHQ/amazon-reviews-unlocked-mobile-phones\n",
        "(You can also use different text data which you want)\n",
        "\n",
        "Apply the listed clustering methods to the dataset:\n",
        "\n",
        "K means, \n",
        "DBSCAN,\n",
        "Hierarchical clustering. \n",
        "\n",
        "You can refer to of the codes from  the follwing link below. \n",
        "https://www.kaggle.com/karthik3890/text-clustering "
      ]
    },
    {
      "cell_type": "code",
      "metadata": {
        "id": "crsN8xg2ARYN"
      },
      "source": [
        "#Write your code here.\n",
        "df = pd.read_csv(\"https://raw.githubusercontent.com/kaziunt2022/exercise_05/main/Amazon%20Reviews.CSV\", usecols=[\"Reviews\"]) # import the data as pandas dataframe\n",
        "df['Reviews'].replace('', np.nan, inplace=True) # replace empty rows with NAN\n",
        "df.dropna(subset=['Reviews'], inplace=True) # remove rows having NAN\n",
        "amazon_reviews = list(df['Reviews'])  # get reviews in list formate"
      ],
      "execution_count": 39,
      "outputs": []
    },
    {
      "cell_type": "code",
      "metadata": {
        "id": "DYdnnmaOARYN"
      },
      "source": [
        "amazon_reviews = list(map(preprocessing, amazon_reviews)) # clean the reviews"
      ],
      "execution_count": 40,
      "outputs": []
    },
    {
      "cell_type": "code",
      "metadata": {
        "id": "fhef6_gkARYO"
      },
      "source": [
        "count_vect = CountVectorizer()\n",
        "bow = count_vect.fit_transform(amazon_reviews) # convert reviews in vector formate"
      ],
      "execution_count": 41,
      "outputs": []
    },
    {
      "cell_type": "code",
      "metadata": {
        "id": "83Sat7mpARYO",
        "outputId": "45ced037-c1cf-47c7-877b-7140cbb8d1ca",
        "colab": {
          "base_uri": "https://localhost:8080/"
        }
      },
      "source": [
        "model = KMeans(n_clusters = 10,init='k-means++',random_state=99) # Inititate k-means model \n",
        "model.fit(bow) # apply k0means model to reviews\n",
        "cluster_labels = model.labels_ # get cluster labels\n",
        "df['K-mean Clusters'] = cluster_labels # save cluster labels in dataframe\n",
        "cluster_center=model.cluster_centers_ # get cluster center\n",
        "\n",
        "s_score = silhouette_score(bow, cluster_labels) # get silhouette score\n",
        "print(\"Silhouette_score of K-means clustering: \", s_score)"
      ],
      "execution_count": 42,
      "outputs": [
        {
          "output_type": "stream",
          "name": "stdout",
          "text": [
            "Silhouette_score of K-means clustering:  0.04616664949602914\n"
          ]
        }
      ]
    },
    {
      "cell_type": "code",
      "metadata": {
        "id": "YYgXj0HiARYP",
        "outputId": "77ac1b0d-affd-4f75-8ece-51d53f306f48",
        "colab": {
          "base_uri": "https://localhost:8080/"
        }
      },
      "source": [
        "# print out top 10 clusters with their top 10 keywords \n",
        "order_centroids = model.cluster_centers_.argsort()[:, ::-1]\n",
        "terms = count_vect.get_feature_names()\n",
        "for i in range(10): print(\"Cluster -->\" , i+1, '-->', [terms[ind] for ind in order_centroids[i, :10]])"
      ],
      "execution_count": 44,
      "outputs": [
        {
          "output_type": "stream",
          "name": "stdout",
          "text": [
            "Cluster --> 1 --> ['phone', 'one', 'work', 'screen', 'great', 'good', 'new', 'would', 'get', 'iphone']\n",
            "Cluster --> 2 --> ['good', 'work', 'great', 'iphone', 'product', 'new', 'like', 'love', 'condition', 'one']\n",
            "Cluster --> 3 --> ['phone', 'screen', 'camera', 'like', 'one', 'get', 'good', 'would', 'battery', 'use']\n",
            "Cluster --> 4 --> ['phone', 'screen', 'good', 'one', 'great', 'time', 'get', 'like', 'use', 'would']\n",
            "Cluster --> 5 --> ['phone', 'tracfone', 'data', 'time', 'call', 'work', 'use', 'android', 'wifi', 'picture']\n",
            "Cluster --> 6 --> ['phone', 'idol', 'camera', 'like', 'one', 'sound', 'feature', 'think', 'screen', 'quality']\n",
            "Cluster --> 7 --> ['phone', 'good', 'screen', 'use', 'like', 'card', 'battery', 'sim', 'one', 'great']\n",
            "Cluster --> 8 --> ['phone', 'like', 'really', 'problem', 'go', 'screen', 'work', 'one', 'make', 'get']\n",
            "Cluster --> 9 --> ['phone', 'quality', 'good', 'camera', 'one', 'like', 'moto', 'light', 'display', 'people']\n",
            "Cluster --> 10 --> ['phone', 'great', 'work', 'good', 'new', 'iphone', 'like', 'one', 'price', 'would']\n"
          ]
        }
      ]
    },
    {
      "cell_type": "code",
      "metadata": {
        "id": "q1Hs_mbMARYP",
        "outputId": "5ebed9e6-37e4-4a25-8118-9aa5c89fbff9",
        "colab": {
          "base_uri": "https://localhost:8080/"
        }
      },
      "source": [
        "# Print out one review for each cluster\n",
        "for i in range(10):\n",
        "    print(\"*\"*70, \"\\n\",\"Cluster: \", i+1)\n",
        "    print(df.iloc[df.groupby(['K-mean Clusters']).groups[i][0]][\"Reviews\"])"
      ],
      "execution_count": 45,
      "outputs": [
        {
          "output_type": "stream",
          "name": "stdout",
          "text": [
            "********************************************************************** \n",
            " Cluster:  1\n",
            "I feel so LUCKY to have found this used (phone to us & not used hard at all), phone on line from someone who upgraded and sold this one. My Son liked his old one that finally fell apart after 2.5+ years and didn't want an upgrade!! Thank you Seller, we really appreciate it & your honesty re: said used phone.I recommend this seller very highly & would but from them again!!\n",
            "********************************************************************** \n",
            " Cluster:  2\n",
            "Very pleased\n",
            "********************************************************************** \n",
            " Cluster:  3\n",
            "Keeping in mind that this is a sub $100 phone that has generally been advertised as the \"cheapest quad-core phone,\" the Landvo L800 has turned out to be a good phone that has exceeded my expectations. From all my research, Landvo seems to be a new company and the L800 was their first model which they released in March of 2014. I took a risk (although less than $100 isn't a huge risk) in buying this in April with no reviews available. The main thing I was looking for was the most powerful, inexpensive phone at the $100 price point. Battery life was also a major factor. So I purchased this phone on the basis of being the only phone in the price range at the time with a quadcore processor and also because it sports a 2300mah battery which was about the largest battery at the price point of the available models.There were a lot of things I immediately liked about the phone. Despite the low resolution and lack of IPS, the screen is pretty crisp and the viewing angles are more than decent. The battery life has also been good--as I have been averaging two days of average use on a full charge. One day of heavy use would usually put me around the 30% range which still isn't bad. I also was almost shocked by the build quality. The phone is heavier than most name-brand competition in its size class but it has a weighty, solid feel too it. The sides are metal, as are the volume rocker and power button. There are no creaks and everything fits together tightly. Fit and finish is top notch. I believe the screen is plastic and not glass, however. Their are pros and cons to this as a plastic screen is susceptible to scratching. However, it does mean that I will never have to worry about a cracked screen if I drop the phone. The phone came with a screen protector prefitted on the phone and an additional one in the box. The included silicone case is relatively simple but was also a nice touch, especially owing to the fact that a no-name brand phone is unlikely to have third party support for cases and such.However, I would not have recommended this phone to anyone at the time. Why? Because performance was lackluster. The quadcore SoC is quite snappy however, the small 512mb of ram was suffering on Android 4.2.2. I was wary of purchasing a phone with less than 1gb of ram and I was regretting it at this point. It would freeze and stutter during even the simplest tasks such as hammering out a text. I put forth my best efforts to streamline my system as much as possible to keep it running smoothly but the fact was it just didn't have enough ram to power Android comfortably. I was ready to ditch the phone for something new.I have completely changed my tune, however, and wouldn't hesitate to recommend this phone in a heartbeat. Why? Surprisingly, Landvo has supported with releasing an official 4.4 KitKat rom for the phone. For those who are tech savvy, this is a boon. KitKat was actually streamlined by Google so that devices with only 512mb of ram can run it comfortably (4.2 was a bit of a resource hog). At this point, I figured I had nothing to lose--I was planning on dumping the phone anyways. Needless to say, flashing to KitKat made a world of difference. The performance is literally night and day as upgrading to 4.4 literally got rid of *all* the lag I was experiencing with the phone. It is now quite fast--I would argue faster than my Sero 7 Pro tablet which is running the old but venerable Tegra 3 processor. Demanding, apps load quickly without stuttering. Animations are smooth and everything has become a joy to use with this phone.If you are looking for a ridiculously cheap, but fast 5.0\" Android phone with good battery life and good build quality, this is the one you are looking for hands down. It's not going to compete with TOTL phones out there but for a measly $95, you shouldn't be expecting that. What you get is a perfectly usable phone at an almost throw away price. I've noticed vendors selling the L800 with Android 4.4 already installed so it looks like the new stock of this phone has been upgraded. If you are not tech savvy and comfortable with flashing your phone, make sure you purchase one with 4.4 already installed! You will love it if you do.\n",
            "********************************************************************** \n",
            " Cluster:  4\n",
            "I originally was using the Samsung S2 Galaxy for Sprint and wanted to return back to the Samsung EPIC 4G for Sprint because I really missed the keyboard, I really liked the smaller compact size of the phone, and I still needed some of the basic functions of a smart phone (i.e. checking e-mail, getting directions, text messaging) Because the phone is not as powerful as the newer cell phones out there, just be aware that the more applications you install the slower the phone runs and will most likely freeze up from time to time. But the camera works great, the video is great as well, and even the web browsing is decent and gives me what I need. I also notice that battery life lasts a little bit longer and charging the phone is much quicker than my Galaxy S2.\n",
            "********************************************************************** \n",
            " Cluster:  5\n",
            "Update 3/07/16:I have moved my rating from a 4 to 5.The TracFone AT&T 4G LTE sim works great at Bodega Bay. So we have good connections in what has been a blackout area for years.I upgraded my text system to the MySms premium for better texting and easier texting pictures to family and friends.I added Camera MX for better picture taking and ease of transmitting pictures with the MySms as noted above. The system works seamlessly with Amazon Prime Photos. Take a picture. In a short time it is on Amazon Prime, and I can text the photos to our friends and family in seconds. I have just scratched the surface with the capabilities of Camera MX, and it surpasses any phone camera or camera I have had in over a decade.The battery continues to be amazing and also eliminates the drain on my Android tablet / Chromebook with the MySyms connection.So this great phone fits in my pockets is powerful and does anything I need or want with the phone, internet connection and camera +4G LTE!The cost of this is about $200.The first part of the below is for Tracfone customers/users. If you don’t use Tracfone, go below the dotted line for my review.For a week, my new Alcatel Idol 3, 4.7 didn’t work with my transferred Tracfone minutes and years of use. The Tracfone site showed that my BYOP transfer had worked with my new BYOP sim card, and all of my minutes, data and time left were transferred. The phone didn’t work to make/receive calls or texts.Alcatel was of no help. A friend suggested that I email Tracfone to set up a phone call with them. I did and got online, with someone as per the email from them. He claimed they didn’t have any of my data. Including tracfone phone # and id #’s. Fortunately, I had made a hard copy of what I had re time and years on my old smartphone and what Tracfone showed with my new Sim cardI told him that I needed to speak with someone, who could help me. Then on hold for 15 minutes, when a nice woman answered and again wanted all the data I had emailed and told the other phone person. After, I re told her the specific data, reading from my hard copy made the day the BYOP was supposedly activated. Then, she said I didn’t have anytime left on my contract, and I need to buy more time. I reminded her of the hard data showing over 2000 minutes and time of agreement for years to come. That was a 30 minute + call process.She said that she had to transfer me to another supervisor. She did, and the new person started asking for my data given twice that call. I said that I had sent all of that in via email, and I had given that data twice on the same phone call. She found my contract and said my phone wasn’t 4.7 working because my time/minutes/data hadn’t been transferred. She did her thing on her end and my phone fired up and I dialed in the code to activate it.It now works with well over one hour on the phone going over same stuff 3 times with Tracfone on line people------------------------------------------------------------------------------------------------------------------------------------------------------------------------------------------------------------Evaluation of this phone is now 5 stars.Before, I got my Tracfone problem corrected, I had used my new phone via wifi to transfer the contacts, pictures and apps from my old android LG phone. Most of this went well. The transfer of stuff from a nearby or close Android (Acer tablet, old Android phone and my Acer Chromebook 15, which I’m using for this report), didn’t work.The wifi reception is good but not as strong as my wife’s Alcatel One Touch Android. Where I use it at home, the wifi reception is strong and very fast.The 4.7” screen fits in my shirt pockets even after the bottom half of the add on hard case was added.The screen size is adequate for what I want to do away from home, to make/receive phone calls and text/receive and check texts and emails. I will use my Acer 8 tablet or my Chromebook for more involved keyboard/screen work at home.The battery, so far is adequate so far for my uses. Last night it was @ ¾ charge, and I didn’t charge it. This morning it was still @ ¾ charged and again at 2 pm this afternoon. When, I picked it up again and turned it on it was still at 3/4.Bloatware is at a minimum.It accepted my 64 gig card with no fuss.The Android 5.0 seems to be smoother and less drag than our previous 4.?.It works smoothly with MY SMS which I have on my tablet and Chromebook.Also, when you receive a phone call, you don’t push or make contact directly with the phone Icon. You have slide that Icon to the right to answer. I have had cell phones since the 1990’s, and that is different.Since the phone is now working with Tracfone, I have to push the app buttons on the screen harder than before.The glass add on screen I bought is too big. The standard screen gets very messy very quickly with minimal useage. I will try to find an aftermarket glass that fits.The combo hard case and belt case (extra buy) is a mixed picture. The hard case fits fairly well;however if you attach that to the other half of the hard case, you can’t really get the camera out to make phone calls, receive them or to take a picture. You have to remove the part that covers the phone and the back part of the case. I missed two phone calls from my wife due to this time delay to get to the front of the phone. Also, I didn’t get a picture of some on the move wildlife in our area due to this problemIf you use Tracfone BYOP, and your phone doesn’t work. Don’t waste your time contacting Alcatel. Send Tracfone an email with your data and tell them your phone isn’t working. Tracfone will send you an email with a phone# and a numeric code to use. When you, make that call, sit in a comfortable chair and have a hardline phone available, all of your data available, a bottle of water, a lot of patience, and your well charged Alcatel Idol 3. I used my Acer Chromebook to help with the data, the “lost” data and other stuff they needed.In this short time, I think that Alcatel and Tracfone have a good winning combo. If you use Tracfone’s BYOP, and you are an established customer wanting to transfer your minutes and time, be sure to make hard copies of your minutes and data. You will probably need that data.-----------------------------------------------------------------------------------------------------------------------------------------------------------------------------------------------------Update re the battery. It is an excellent battery with heavy use. It is the best cell phone battery, we have ever owned re standby. It holds the charge in standby versus our other androids phones and tablets using the battery charge overnight or just standing unplugged.Re wifi connections. It quickly recognizes our home wifi and connects and other hot spots seamlessly. Its wifi range in our house isn't as good as my wife's Alcatel One Touch Popup, which is incredible re its wifi range. However, since I never use these phones in our bedroom and a few other weak wifi areas, that is not an issue. The auto switch from wifi to Tracfone 4G LTE like going from our family room to our back yard is auto and seamless. So far the Tracfone/AT&T 4G LTE in our area is very strong and reliable. Hopeoufully, we can try the AT&T 4G LTE in/on our coastal areas where our Verizon/Trackfone coverage is zero.The Android 5.? seems to be more reliable and easier to do simple things with versus the Android 4.?'s.\n",
            "********************************************************************** \n",
            " Cluster:  6\n",
            "I’m not going to get into too many explicit specs on the phone because I am trying to review this from a real-world, does-it-work? perspective. I don’t care about benchmarks, I care about how I was able to use this phone in my everyday life. If you want every technical detail, you can go here.Hardware/ScreenThe Idol is a 5.5 inch phone with a 1080p IPS screen. The back of the phone has a plastic back, but not removable (so no battery swapping). There are some faux-chrome accents that go around the device and the speakers (dual-front facing, more on that later) are at the very tippy-top and bottom of the phone. The phone feels pretty nice in the hand and wasn’t hard to hold.The screen is fantastic and one of the best features of the phone. Alcatel uses some buzz-words to describe it (TECHNICOLOR!) but the simplest way to put it is that the screen is vivid, bright and crystal clear. It’s not flagship level for 2015, that would require a QHD screen, but what it lacks in resolution vs. something like the LG G4 or Samsung Galaxy S6, it makes up for by being $300+ cheaper (off contract) than any other flagship device. Simply put, the Idol’s screen is so nice, it doesn’t feel like it should be on a phone so cheap.My other favorite hardware feature is the inclusion of a MircoSD slot next to the sim card slot (which are both in a tray that’s ejected from the left side of the phone). I basically can’t buy a phone without extra storage because I prefer to keep as much music downloaded to my phone as I can, to avoid streaming (either due to data restrictions or having access to it when I am in areas with poor coverage). The storage is up-gradable to 128gb, which goes on top of the 16gb the phone offers out of the gate (almost 10gb usable out of the box).Sound QualityThe quality of sound I get from a smartphone is critical to me. I’d say I place listening to music/podcasts as the number one use I have for a smartphone. My HTC One has audio tuned by Beats, which then morphed into Boomsound, but whatever you want to call it, it sounds great coming from the device or listening via headphones.I’m happy to say that the sound quality is another feature here that seems like it would come from a more expensive phone. Here, Alcatel touts sound tuned by JBL with an option to turn that sound optimization on or off under the settings. I much prefer the sound with the feature on and I’d say it easily rivaled my HTC One for sound quality both when listening from the device or with headphones.There’s a speaker on the top and bottom of the phone, which is, in part, necessary for their upside-down feature. Basically, you can pick up the phone for a call and it will be properly orientated regardless of it being right side up or not. I don’t find the feature to be something that was of great use to me, but I can see the function.Regardless of that feature, having two speakers on the phone is part of what makes it sound great. Some newer phones, like the Asus Zenfone 2 have what looks like dual front speakers, but in reality only one speaker is at the top or the bottom. The Idol gets LOUD when listening from the device. Louder than my One. I love this feature because it makes for listening to music or podcasts in the shower nice and easy to hear. The speakers don’t even seem to become over-burdened when at full volume.Sound quality is on par with the screen, giving the Idol 2 features that feel to be of much better quality that you’d expect from a phone in this price range.UsabilityAndroid Lollipop comes standard (I think I had 5.0 out of the gate) and is near stock. Most of the non-stock features are removable. I’ve grown to love stock Android vs. any skinned version of it, so that was a determining factor for me with the Idol.The general, day-to-day use of the Idol is perfectly adequate, but not overwhelmingly speedy. This was the first part of the phone that felt like “you get what you pay for”. That’s not to say it’s not functional, because it very much so is. Where as I found the lack of speed to be a factor in selling my Moto G, I had no such thoughts with the Idol.There are no issues with multi-tasking, I was easily able to switch between music, maps, a browser and a game. Things like that are just a bit pokey to respond. Not pokey in the sense that it takes 30 seconds of your life from you, but sometimes a program might take 1 or 2 seconds longer to open than you’d see on a phone with a top-of-the-line processor/RAM setup. Those 1 to 2 seconds seem annoying sometimes, but that just speaks to me and my lack of patience. The reality is that this phone works perfectly well and should for the vast majority of users.Call quality is perfectly adequate, but I am probably not someone who should even speak to that. I spend, maybe, 10 minutes a week using my smartphone as an actual phone, but those 10 minutes work very well. I come across clearly as does the person on the other end. The speakerphone has the benefit of the dual speakers, just as a song or podcast does.I feel like the hardware buttons would have been nicer if placed a littler lower. Due to the phone’s size, I had issues with pressing the unlock button with one hand. Not massive issues, since I’ve almost always used two hands with my phone, but for people who like a one hand device, this might not be it (if I’m being honest, I think this is a stupid reason to or not to buy a phone, I tend to just adapt to whatever device I select, but to each their own). The USB port and headphone jack are where you’d expect them, on the bottom and top, respectively.Battery LifeAnother nice feature with the phone is battery life. I don’t consider myself a super heavy user of screen time on a basic day, so I’d easily get home with 50+% after work and make it to bed with 30+% or more. Having the phone on a recent vacation where I was heavy on camera use and GPS I found myself slightly more nervous with battery life, but the phone charges very quickly (60% in 40 minutes, I think) so driving 10 minutes from one place to another, I could give a quick boost and take that nervousness away. Overall, very solid battery life for my (and I think most people’s) usage.CameraHere we get a 13MP rear-facing camera with a 8MP front-facing camera for selfies. All in all, I was very happy with the camera performance. In well lit situations, shots where clear and crisp. Some low-light situations mad for poorer quality pictures, but that’s every camera phone, ever. The biggest struggle for the camera was actually on a cloudy day. I used the camera’s time-lapse video function to film a boat trip I took on Lake Superior and you can see that the phone struggles with it’s focus and makes the land look rather dark against the cloudy sky. This could be user error, however, I’m not sure.Like every other smartphone out there, there’s an HDR function in the menu to give a little more definition to your shots. I think it worked as well as one would expect, but I stuck with the camera’s auto mode for the most part. Check out this gallery here, here and here to see some shots in all sorts of lighting conditions.Other than having the sun blare straight into the camera lens or overly dark shots, I really liked what the camera gave me. Anything I see as a negative with the camera is just the reality of using a smartphone for your main camera due to convenience. They are never going to perform like the best point-and-shoot units, but to have decent performance is nice and the Idol is a step or two above decent.Final VerdictI don’t think you can get this much phone for the money you pay, anywhere else. The Idol is, very easily, worth the extra $70 you’d be spending over a Moto G. The other phone that was hot in the running for me was the Asus Zenfone 2 (4GB Ram Version) but I picked the Idol for its superior sound quality and screen, both of which I think are better than the Asus. I know that OnePlus has their 1’s at a lower cost right now, but the lack of a Mirco SD card took them out of the running for me, I keep a lot of music on my phone.Overall, there is a trade-off between these less expensive, off-contract phones. OnePlus and Asus focused on making a very responsive, powerful phone and Alcatel focused on a better media experience. I don’t think you can go wrong with any of those three options, but the Idol Onetouch 3 was easily the phone for me….…and I miss it. As I alluded to earlier, I am back to my HTC One. I got a little to into my desire to become Ansel Adams that I may or may not have dropped the Idol in a river in Northern Wisconsin. I’d love to get another Idol, but it’s not currently in the budget and I DO have a phone that works, even if I can’t update it. I plan to wait out until next year to see what the Onetouch 4 will bring. Alcatel made a statement with this device and I hope to see them continue making phones at a budget price with specs and usability that outweigh the budget price point.\n",
            "********************************************************************** \n",
            " Cluster:  7\n",
            "Preface: This is not what would be considered a smartphone in the United States (Nothing on the par of Android, iPhone, or Windows Phone), it is basically a feature phone. Also, although it says here that it has a US warranty all of the warranty material it came with referenced Latin American countries so I am not sure if it is really covered under a US Warranty. I returned it during Amazon's return window so it wasn't an issue. Now for the phone review.Pros: The phone has a great keyboard. If you are familiar with the E-series phones its that type of keyboard. The interface is some sort of modified Symbian and I liked it in a lot of ways. The style of the hardware is attractive and the Gray is a nice color. The camera was pretty decent considering it is only 2 megapixels. For e-mail it's adequate.Cons: I'll start with the small issues and work up to the big problem that ultimately made me decide to return the phone. The onboard social network apps are not fully functional. You can update your Facebook or Twitter status but the rest of it is so-so. The Ovi store in general is a poor app store, but this phone isn't able to use many of them. Even the old Facebook app that I used on my old E71 (It used to be called Snaptu but Facebook has since renamed it to Facebook for Everyone) is incompatible with this phone as are most of the better apps in the Ovi store. The browser was mediocre, barely passable. Also, NO GPS for this phone. Nokia/Ovi Maps is incompatible which is too bad because that has always been a Nokia strength. That immediately eliminates this phone as a smart phone. With all of that said, I bought this phone for my wife and she really only needed a phone for texts and calls so we could have overlooked these things. The problem we could not overlook was the very shabby, flimsy piece of metal that was supposed to hold in place the standard sim card. This little piece of metal was barely attached to the phone and would not lock into place to hold down the sim card. Because the sim card would intermittently get lose inside the phone and constantly lose the signal. So we would have to take the battery out and re-adjust the sim card. Then it would work for a little while only to ultimately have to repeat the process. It was WAY more frustration than it was worth. It's too bad because as a basic phone for calls, texts, e-mail, and occasionally updating your Facebook/Twitter status; this phone has a lot of potential. Becuase of the problem with the sim card holder, however, it was essentially unusable. I have used Nokia phones for years (I use a Lumia 710 personally) and I am really surprised Nokia would do such a sloppy job on something as important as the part that holds the sim card in place. What a waste.\n",
            "********************************************************************** \n",
            " Cluster:  8\n",
            "This is my second time buying a cellphone from amazon. As always, i did a heavy research BEFORE buying the phone and placing my order.My first impression of the phone was: Holy crap this is beautiful. Its thin, its slick and it is black and shiny all over the place! It is really something to admire.The first thing is: This phone is HUGE. Its totally a thing. And it wont stop being a thing. I mean it is a 5.5 inch screen, which makes this phone almost a tablet, which it is! so it is called a Phablet. The screen is very bright, crisp, and seriously, IPS? in my opinion the best choice for color and brightness,plus it saves battery. People complains that this phone doesn't have a 1080p screen, but really, if you can see the difference between the pixel density of this phone (aprox 200ppi ) and the pixel density of the iPhone (500 ppi) then your eyes must be better than the Kepler telescope. Go work at NASA or some stuff hehehehe. The screen size alone makes up for some things it is missing, and it totally should have, like a magnetometer. But don't get me wrong. This lil fella here is a powerhouse. It will make some phat rhymes and some ill beats for you if you play it rightThe feel of the phone is sturdy. It wont broke easily (nor i recommend you to try and break it. I mean come on) The back case has a good grip. Still i recommend you to get a phone cover, just in case. TPU will do or something more sturdier. I got one from http://www.amazon.com/gp/product/B00EY7SS72/ref=cm_cr_ryp_prd_ttl_sol_1It has a LCD screen cover plus the case!!Inside the box, i got the phone (Durrrrr), Charger, Battery, A screen cover !!, a 4 GB micro SD!! , USB Cable, Wall Adapter And some cool earphones. Really complete set in my opinion. It has the bare minimum to go strolling.The charger is of good quality, sturdy, as is the USB cable and the wall adapter.About the Battery. It is a 2250 mAh battery. Now in the last two weeks i only charged the phone once every 2 days. So that gives you an approximate of 2 days of battery with GPS , WIFI and DATA NETWORK on. But that's me, I don't play much with the phone, and my heavy using apps are social ones. There is an application on the phone called Lenovo Power that manages battery in a smart way so it lasts longer. I suggest to learn it and use it.OK, opening the back case is nothing short of easy. It has a little dent to the lower right side that allows you to pull the back case fast and easy.Inside you will find 2 standard sized SIM CARD slots, Micro SD slot up to 32 GB , Phone Camera, Audio Speakers And battery slot. The phone accepts mini SIM CARDS too. Now about the DUAL SIM you must know that the First one(The one on the left) Is able to Use 3G capabilities while the other one cannot. Don't Sweat it, this is standard practice. The second SIM CARD slot will be and shall be used for a second phone line used only for calls. The audio Speaker is of good Quality. And LOUD. Good lord that thing is noisy hehehe.This phone Id is LENOVO A850. Its not a lenovo A820 and it is totally NOT a SAMSUNG GALAXY 2,3 OR 4. Nevertheless it has a bunch of qualities that will prove quite useful.Why do i mention that you ask? It is because of the camera. I kid you not. Its a 5 MP camera. Its a really good camera, but some People might want this phone to shoot pictures at a quality that is beyond the hardware. The pictures are excellent in my opinion and they will work with whats-app and other apps. It has a lot of modes like continuous shooting and auto-focus and you can set up camera quality up to 5 MP. You can record video at high quality too. It seems 1080p But in fact it is scaled from a lesser resolution. Not a problem for me tho. As always, this is a phone, not a camera.This phone has a MT6582M mediatek CPU. It is a Quad-core@1.3 GHz with a GPU MALI-400MP2. What does this Means for you? Its Fast. Trust Me , really fast. Your multimedia will play with no problems and your games will go like silk. Games like NOVA 3 and Anomaly Korea . Cool.It has 4 GB of internal memory that translates in a total of 2.31 GB in real usable space. It has too 1 GB of ram. This will Make the phone faster too, because you will be multitasking a lot with this Phone .Now going to the front side of the phone, you will find in the top The brand of the phone (LENOVO) in shiny silver letters, your 3.5 Audio Plug, power Button ,speaker, frontal camera , proximity sensor and a notification led . The frontal camera is a 1.2 MP one, it wont transmit lots of data to Skype and other apps so its ideal to make video calls. The top speaker Works like a charm as well as the proximity sensor and the 4 colors notification LED (Blue,Red,Orange,Green). I guess the LED is fully Configurable But haven't tried it yet .I will Update As Possible.In the Bottom you will find 3 silver shiny soft touch buttons, micro USB slot and microphone.The soft Buttons are from left to right:Menu Button, Home Button and Go back Button. They are shiny and silver and they wont have BACK-LIGHT. They will be visible enough in the darkness so that's it.The right side of the phone has the +/- volume buttons. The left side has nothing.OK that's with the Physical stuff. Now we go to Software.First Thing First. This Phone posses a high grade of heavy customization. And as such, it is necessary that if you are going to make use it, you are able to at least, follow instructions precisely and know your way around android OS or a computer. Sorry but that's it if you want to customize it. If not, Then don't worry ! Most Sellers are very kind and they will get you (if you ask them of course) the phone in your language be it Spanish or English or whatevs and they will customize it for you. But seriously, ask them. Don{t expect them to do it just for giggles. And certainly, do not ask after getting the phone or placing the order. Before is OK.The software is a tricky thing. My phone came with a Android 4.2.2 Rom that is called S128 Xiaomijie. It was a Chinese ROM but it came in English. I just wiped it and installed another one called S121, made by Linerty. Its more stable for me. Ill post the links At the end for you all that want to customize the phone.There is a silver lining to this. There is an announce from mediatek that this phone will get android 4.4 KITKAT at the end of this month (18/04/2014 as today) so if you go trough with the ROM change you will get the experience needed to update to KITKAT later. All this will be done manually. Bollocks.Anyways, android 4.2 goes really fast in this phone. Man, so FAST. you will get lot of apps that will make your experience with this phone something worth sharing. Your live wallpapers will be smooth, your wireless will be fast and your calls will always go trough. The android integration is really cool and it will save you lots of trouble when you set up your APN's , because at the time you insert your sim card it will get all the info you need for it.The GPS is really exact. you will get accurate measures up to +/- 2 meters. You wont need a internet connection for it to work. Only when you download your maps but apart from that, no.This phone Works Excellently in Venezuela. It works with Movilnet and Movistar (SIM CARD 1) and with Digitel (SIM CARD 2) . That{s for GSM calls. For 3G and data connection its only the SIM CARD 1.Over all, this phone is a great Purchase. I give it 10/10 points because the sheer awesomeness . Have in mind that this is a mid-end phone.And it kicks some rump.About The Seller. It was LightInTheBox. They sent Directly from China Via DHL. It was a Fast shipment (For me). I communicated with themand they were always attentive and fast at answering. Id go with them again in any case.At The time i bought the Phone it was worth 169$ . I guess it will get cheaper so get it if you can :DOne thing You must remember, This is no Samsung S5/S4 Phone, nor an Iphone, Not a tablet. But it will prove reliable with office applications and such .Have a Nice Day !Thanks For Reading This.-18/04/2014-\n",
            "********************************************************************** \n",
            " Cluster:  9\n",
            "Pros-Smooth Performance-All Day Battery Life-Excellent Build Quality-Good Quality Screen-NFC (Android Pay Compatible)-Decent Camera-MicroSD ExpansionCons-Awkward Button Placement-Squeaky Vibrating Motor-Updates not guaranteed-No Gorilla GlassShould you buy: YESActual Value: $220I loved my Moto G. It made me always question why people spend over $600 on phones when a $200 could work just as well. With the new Moto G, I was willing to buy it right on the spot. But what turned me off was the nearly 3 weeks I’d have to wait for one to be delivered. So I started my search for the next best phone under $200, which lead me to this phone. I’ve had some experience with Alcatel phones, so I didn’t have much expectations with this phone. That being said, I’ve had a couple of days with it and I can say with absolute confidence that I love it.-Design-This is one light phone. I’m starting with that because you have no idea how light it is until you hold it in your hand. I actually thought for a moment that the battery wasn’t inside it yet. But it is pleasant to hold in the hand. The design is all plastic, so don’t expect anything premium on this phone like metal. But it is solidly built, rivaling even the Galaxy S5 in build quality. Speaking of which, this phone is lighter and slimmer than the S5. If the phone were sold for more money, I’d still be satisfied. It’s not just good build quality for the price. It’s excellent build quality. Period. The chrome accent is a nice touch and the speaker grills are slightly angled towards the phone, which add a bit of sparkle to an otherwise black phone. No soft touch plastic on this phone, but it does land on a middle ground where the plastic is nice to touch and is resistant to fingerprints. The design is completely symmetrical, which is important for a certain feature that is unique to it. I’d love it even more if it were available in a different color such as white, but that is personal preference. Overall, I can’t find much to complain; especially for the low $180 price.-Performance-If you have seen the Moto G’s specs, you’re pretty much getting the same hardware. It uses a Snapdragon 410, 720p display, microSD expansion, Android Lollipop, and even the same camera module (Sony IMX 214). However, there are a few key difference that make this a better phone than the Moto G. For instance, this phone has 1.5 GB of RAM (Moto G=1GB), actual front facing stereo speakers, a 4.7” compared to the 5”, NFC, and 16GB of storage(Moto G=1GB). In benchmarks, I have gotten similar results to the Moto G in both CPU and graphic performance. But benchmarks are only one side of the performance experience. The other is daily user experience. Based on the couple of days with it and after installing many apps, I can tell you that this phone is snappy. It’s not as fast as the current flagship lineup, but it never lags or clips the graphics. Apps open relatively quickly and the animations are smooth, as well as the transitions from one app to another. In my testing of multitasking ability, it opened Chrome, Angry Birds, Pokemon Puzzle, and YouTube with no lag and each app open where I left them off. Opening more will force the phone to suspend one of those apps to save RAM, but 4 apps at once without closing is pretty good for the cost. Games also perform good, as long as you have reasonable expectations. 2D games such as Angry Birds, Pokemon Puzzle, and Clash of Clans run smoothly and without an issue. Other games like Asphalt 8 and Real Racing 3 will run smooth, but not at the highest quality setting. But that’s to be expected from a midrange phone. Signal quality is good. I was able to get 62 Mbps download speed and 8 Mbps upload on T-Mobile’s 4G LTE around Pasadena, CA. Thanks to band 12 support, cell signal in buildings is good with the signal almost never going under 3 bars. The speakers are also amazingly good and loud, coming close to matching HTC’s Boomsound phone speakers thanks to the help from JBL. Overall, it performs close to flagship specs, albeit a bit slower. Most people should be happy with this phone.-Display-The phone itself has a beautiful HD display with a 312 PPI (note that the iPhone 6 has a 324 PPI) and it is advertise as being calibrated by Technicolor. While they aren’t at the S6’s quality display, it does come close. The display has a nice color calibration, with vivid colors and nice blacks and whites. It is also bright enough for using even in direct sunlight and the good contrast means you can clearly see what you are doing. It isn’t perfect since there are a couple of issues. The colors do have a VERY slight cool tone, meaning that the whites do have a TINY bit of blue to them. Another small issue is that there is a slight amount of light bleed on one side of the displace. But it isn’t noticeable in daily use and it is good for the price of the phone. One crucial one is the fact that they aren’t using Gorilla glass on this display, opting for the more discreet Dragontrail Glass. Since this is going to be my daily driver, I didn’t want to test the toughness (if Alcatel provides me a unit, I’d gladly test it) but I’ve looked into it and it trades scratch resistance for toughness. It might be easier to scratch it, but it is more resistant to shock. Only time will tell and I will update this review as time moves on.-Camera-The camera is a back-facing 13 MP camera and a front, wide angle 5 MP camera. The rear camera uses a Sony Exmor IMX 214, which is the same unit found in the new Moto G and the more expensive Nexus 6. The results are mixed though. On one side, outdoor pictures are good. Whenever there is good lighting such as outside or a well lit room, the pictures do come out high quality with colors mostly accurate and the camera absorbing a lot of details. However, during the night, the picture quality takes a hit, with the camera struggling to get any details from the lack of light. It will get some details if they is ANY type of light, but not much. The lack of OIS also contributes to this issue, but there is no phone with OIS at this price range at the moment. The flash is okay, but since it isn’t a dual tone unit, the light tends to overflow and photos tend to lose their details. Videos are also a similar story, with good lighting providing good results and the opposite being true. There is EIS, but the effect isn’t that noticeable and it doesn’t really help with the quality. This isn’t a camera you’re going to use for important, memorable moments. But for things that most people use, like Facebook, Twitter, and Instagram, it works great. This is especially true for the front facing camera, with the selfie cam grabbing a lot of details, provided there is good amount of light.-Software-This is basically running a close to stock version of Android Lollipop. It is running version 5.0.2 with a Stagefright patch already added to protect the phone from foreign attacks. There are a few changes to the software. For instance, the icons look like similar to the iPhone, which can be both a good and bad thing, depending on whether you love or hate that style. Other than that, everything works just like stock Android. Except for one feature that I’m surprised isn’t universal to all phones. That is the fact that this phone is reversible. It doesn’t sound as exciting as fingerprint sensor, but it is a rather practical and underrated feature. I’ve answered the phone to test the sound quality and it wasn’t until after I hung up that I realized the phone was upside down. It sounds equally good on either orientation and it is brilliant. Of course, if you don’t like this (for some reason) there is always the option to turn it off. Overall, the light touch that Alcatel added onto Android hasn’t hurt it much and any problems can be easily fixed.-Conclusion-I wasn’t expecting to get a high quality phone, especially after my experience with an old model that I can’t even remember the name. But Alcatel did deliver a high quality experience and an astonishing device. It does have some compromises, but Alcatel chose them wisely and the overall result is great. There is a couple of phones that compete in this range, but the biggest one is the Moto G. Is this better? Yes and no. For power users, I would still recommend the high end Moto G because of the extra RAM or even a OnePlus One, which is on sale now for $299. But if it must be under $200, like for college students like me, this beats the $179 low end Moto G due to the higher quality speakers, display, NFC, and the slightly more RAM. This phone helps to answer the question: Do people really need to spend over $800 on a phone to get a high quality experience? The answer for most people is no. They don’t. There is a market for people who need to have the latest and greatest with all the new extras like fingerprint sensor and DSLR-like quality cameras. But for the rest of us, there are phone that does what we ask from it and reasonably well not just for the price, but just overall. If you are on the fence and frustrated from searching like I was, let me help you. Go for this phone and you won’t be disappointed.\n",
            "********************************************************************** \n",
            " Cluster:  10\n",
            "It works good but it goes slow sometimes but its a very good phone I love it\n"
          ]
        }
      ]
    },
    {
      "cell_type": "code",
      "metadata": {
        "id": "YoRnJ9OhARYQ",
        "outputId": "028b0061-faa3-48a2-bd0e-9c6e42318755",
        "colab": {
          "base_uri": "https://localhost:8080/"
        }
      },
      "source": [
        "model = DBSCAN(min_samples=10) # initiate DBSCAN model\n",
        "model.fit(bow) # fit thhe model on vector form of reviews\n",
        "cluster_labels = model.labels_ # get the cluster labels\n",
        "df['DBSCAN Clusters'] = cluster_labels\n",
        "s_score = silhouette_score(bow, cluster_labels) # get and print silhouette score\n",
        "print(\"Silhouette_score of K-means clustering: \", s_score)"
      ],
      "execution_count": 46,
      "outputs": [
        {
          "output_type": "stream",
          "name": "stdout",
          "text": [
            "Silhouette_score of K-means clustering:  -0.2908932297517206\n"
          ]
        }
      ]
    },
    {
      "cell_type": "code",
      "metadata": {
        "id": "036XkCzgARYQ",
        "outputId": "226e5f81-a22d-407a-f2fd-2caea40aba50",
        "colab": {
          "base_uri": "https://localhost:8080/"
        }
      },
      "source": [
        "for i in range(len(set(cluster_labels))-1): # print clusters with keywords\n",
        "    print(\"*\"*70, \"\\n\", \"Cluster: \", i+1)\n",
        "    print(df.iloc[df.groupby(['DBSCAN Clusters']).groups[i][0]][\"Reviews\"])"
      ],
      "execution_count": 47,
      "outputs": [
        {
          "output_type": "stream",
          "name": "stdout",
          "text": [
            "********************************************************************** \n",
            " Cluster:  1\n",
            "excellent\n",
            "********************************************************************** \n",
            " Cluster:  2\n",
            "excelente\n",
            "********************************************************************** \n",
            " Cluster:  3\n",
            "I love it!\n",
            "********************************************************************** \n",
            " Cluster:  4\n",
            "very good\n",
            "********************************************************************** \n",
            " Cluster:  5\n",
            "BAD\n",
            "********************************************************************** \n",
            " Cluster:  6\n",
            "Excellent Product.\n",
            "********************************************************************** \n",
            " Cluster:  7\n",
            "Perfect\n",
            "********************************************************************** \n",
            " Cluster:  8\n",
            "Great phone.\n",
            "********************************************************************** \n",
            " Cluster:  9\n",
            "Thank you\n",
            "********************************************************************** \n",
            " Cluster:  10\n",
            "Good phone\n",
            "********************************************************************** \n",
            " Cluster:  11\n",
            "Works great.\n",
            "********************************************************************** \n",
            " Cluster:  12\n",
            "Great\n",
            "********************************************************************** \n",
            " Cluster:  13\n",
            "A++++++++\n",
            "********************************************************************** \n",
            " Cluster:  14\n",
            "Excelent.\n",
            "********************************************************************** \n",
            " Cluster:  15\n",
            "It did not work.\n",
            "********************************************************************** \n",
            " Cluster:  16\n",
            "fine\n",
            "********************************************************************** \n",
            " Cluster:  17\n",
            "It's Ok.\n",
            "********************************************************************** \n",
            " Cluster:  18\n",
            "bien\n",
            "********************************************************************** \n",
            " Cluster:  19\n",
            "very good the product.\n",
            "********************************************************************** \n",
            " Cluster:  20\n",
            "Great Product\n",
            "********************************************************************** \n",
            " Cluster:  21\n",
            "It is a nice phone\n",
            "********************************************************************** \n",
            " Cluster:  22\n",
            "Thanks\n",
            "********************************************************************** \n",
            " Cluster:  23\n",
            "Nice\n",
            "********************************************************************** \n",
            " Cluster:  24\n",
            "Awesome.\n",
            "********************************************************************** \n",
            " Cluster:  25\n",
            "Great condition!\n"
          ]
        }
      ]
    },
    {
      "cell_type": "code",
      "metadata": {
        "id": "xyb_lBZTARYR"
      },
      "source": [
        "w2v_model=gensim.models.Word2Vec(amazon_reviews) # inititate model to convert words into vectors"
      ],
      "execution_count": 48,
      "outputs": []
    },
    {
      "cell_type": "code",
      "metadata": {
        "id": "Nu8v9i-FARYR",
        "outputId": "70cf86d9-b2d6-4a84-c416-c646f9a37d02",
        "colab": {
          "base_uri": "https://localhost:8080/"
        }
      },
      "source": [
        "import numpy as np\n",
        "sent_vectors = []\n",
        "for sent in amazon_reviews:\n",
        "    \"\"\"\n",
        "    This fucntion will convert each word of revews to a vector form\n",
        "    \"\"\"\n",
        "    sent_vec = np.zeros(100)\n",
        "    cnt_words =0\n",
        "    for word in sent:\n",
        "        try:\n",
        "            vec = w2v_model.wv[word]\n",
        "            sent_vec += vec\n",
        "            cnt_words += 1\n",
        "        except: pass\n",
        "    sent_vec /= cnt_words\n",
        "    sent_vectors.append(sent_vec)\n",
        "sent_vectors = np.array(sent_vectors)\n",
        "sent_vectors = np.nan_to_num(sent_vectors) # each word of a sentence as a vestor"
      ],
      "execution_count": 49,
      "outputs": [
        {
          "output_type": "stream",
          "name": "stderr",
          "text": [
            "/usr/local/lib/python3.7/dist-packages/ipykernel_launcher.py:15: RuntimeWarning: invalid value encountered in true_divide\n",
            "  from ipykernel import kernelapp as app\n"
          ]
        }
      ]
    },
    {
      "cell_type": "code",
      "metadata": {
        "id": "oRrSrq0qARYS",
        "outputId": "4804ab37-15aa-448e-ead1-d1259e2af34e",
        "colab": {
          "base_uri": "https://localhost:8080/",
          "height": 267
        }
      },
      "source": [
        "dendro=hierarchy.dendrogram(hierarchy.linkage(sent_vectors,method='ward')) # show hierarchy"
      ],
      "execution_count": 50,
      "outputs": [
        {
          "output_type": "display_data",
          "data": {
            "image/png": "[encoded data removed]",
            "text/plain": [
              "<Figure size 432x288 with 1 Axes>"
            ]
          },
          "metadata": {
            "needs_background": "light"
          }
        }
      ]
    },
    {
      "cell_type": "code",
      "metadata": {
        "id": "0c6SPcEkARYS"
      },
      "source": [
        "# as noted above their are total 4 main clusters \n",
        "cluster = AgglomerativeClustering(n_clusters=4, affinity='euclidean', linkage='ward')  #took n=4 from dendrogram curve \n",
        "Agg=cluster.fit_predict(sent_vectors)"
      ],
      "execution_count": 58,
      "outputs": []
    },
    {
      "cell_type": "code",
      "metadata": {
        "id": "8tO5TZVnARYS",
        "outputId": "9046220b-c5ba-4664-d9fa-2410d811ac40",
        "colab": {
          "base_uri": "https://localhost:8080/"
        }
      },
      "source": [
        "\n",
        "df['Hierarchical Clusters'] = cluster.labels_ # store cluster labels\n",
        "s_score = silhouette_score(bow, cluster.labels_)\n",
        "print(\"Silhouette_score of K-means clustering: \", s_score) # print silhuete score"
      ],
      "execution_count": 59,
      "outputs": [
        {
          "output_type": "stream",
          "name": "stdout",
          "text": [
            "Silhouette_score of K-means clustering:  -0.3015293799255219\n"
          ]
        }
      ]
    },
    {
      "cell_type": "code",
      "metadata": {
        "id": "qnahswH7ARYT",
        "outputId": "5be1f892-58ef-49ee-d532-498d68962560",
        "colab": {
          "base_uri": "https://localhost:8080/"
        }
      },
      "source": [
        "for i in range(len(set(cluster.labels_))): # print clusters with reviews\n",
        "    print(\"*\"*70, \"\\n\", \"Cluster: \", i+1)\n",
        "    print(df.iloc[df.groupby(['Hierarchical Clusters']).groups[i][0]][\"Reviews\"])"
      ],
      "execution_count": 60,
      "outputs": [
        {
          "output_type": "stream",
          "name": "stdout",
          "text": [
            "********************************************************************** \n",
            " Cluster:  1\n",
            "very good\n",
            "********************************************************************** \n",
            " Cluster:  2\n",
            "was not in good condition but does work good\n",
            "********************************************************************** \n",
            " Cluster:  3\n",
            "Very pleased\n",
            "********************************************************************** \n",
            " Cluster:  4\n",
            "I feel so LUCKY to have found this used (phone to us & not used hard at all), phone on line from someone who upgraded and sold this one. My Son liked his old one that finally fell apart after 2.5+ years and didn't want an upgrade!! Thank you Seller, we really appreciate it & your honesty re: said used phone.I recommend this seller very highly & would but from them again!!\n"
          ]
        }
      ]
    },
    {
      "cell_type": "markdown",
      "metadata": {
        "id": "fAjv_KkHARYT"
      },
      "source": [
        "In one paragraph, please compare K means, DBSCAN and Hierarchical clustering."
      ]
    },
    {
      "cell_type": "code",
      "metadata": {
        "id": "H5jfe587ARYT",
        "outputId": "d2f3d3b3-bd97-4fdb-8773-224215f3715e",
        "colab": {
          "base_uri": "https://localhost:8080/",
          "height": 106
        }
      },
      "source": [
        "#You can write you answer here. (No code needed)\n",
        "\"\"\"\n",
        "clustering method in which we make cluster s of data test(in our case the data set was text). \n",
        "K-means is most simple method provide n-number of clusters which can be small or large dependes in value of n. Although it is\n",
        "most simple and fast method but by changing number of clusters the clusters can overlap each other. but this is not in case of others\n",
        "DBSCAN is an advance method and as we saw it provide limited number of clusters, and they are not overlapping each other. but it provide more simple clusters. and they are not so unique!\n",
        "Hierarchical clustering is most advance and useful method. it has limited number of totaly independent and unique clusters with unique data sets\n",
        "\"\"\"\n"
      ],
      "execution_count": 61,
      "outputs": [
        {
          "output_type": "execute_result",
          "data": {
            "application/vnd.google.colaboratory.intrinsic+json": {
              "type": "string"
            },
            "text/plain": [
              "'\\nclustering method in which we make cluster s of data test(in our case the data set was text). \\nK-means is most simple method provide n-number of clusters which can be small or large dependes in value of n. Although it is\\nmost simple and fast method but by changing number of clusters the clusters can overlap each other. but this is not in case of others\\nDBSCAN is an advance method and as we saw it provide limited number of clusters, and they are not overlapping each other. but it provide more simple clusters. and they are not so unique!\\nHierarchical clustering is most advance and useful method. it has limited number of totaly independent and unique clusters with unique data sets\\n'"
            ]
          },
          "metadata": {},
          "execution_count": 61
        }
      ]
    }
  ]
}